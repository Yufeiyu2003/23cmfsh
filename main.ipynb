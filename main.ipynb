{
 "cells": [
  {
   "cell_type": "code",
   "execution_count": 16,
   "metadata": {},
   "outputs": [],
   "source": [
    "from GroundProjection import *\n",
    "from IntersectArea import *\n",
    "from ColumnProjection import *\n",
    "# from shapely.geometry import Polygon\n",
    "\n",
    "from 求太阳各角度 import *\n",
    "from 阳光向量 import *\n",
    "from 求镜面顶点 import *\n",
    "from 求镜面法向量 import *\n",
    "\n",
    "from judge import *  # 读取距离矩阵并分析\n",
    "\n",
    "import numpy as np\n",
    "import pandas as pd\n"
   ]
  },
  {
   "cell_type": "code",
   "execution_count": 13,
   "metadata": {},
   "outputs": [
    {
     "name": "stdout",
     "output_type": "stream",
     "text": [
      "a\n",
      "[[   0.       3.      77.512]\n",
      " [-197.4     -3.       2.5  ]\n",
      " [-202.6     -3.       5.5  ]\n",
      " [-202.6      3.       5.5  ]]\n",
      "[[   0.       3.      77.512]\n",
      " [   0.      -3.      77.512]\n",
      " [-202.6     -3.       5.5  ]\n",
      " [-202.6      3.       5.5  ]]\n",
      "[[ 0.00000000e+00  3.00000000e+00  7.75120000e+01]\n",
      " [ 0.00000000e+00 -3.00000000e+00  7.75120000e+01]\n",
      " [-2.84217094e-14 -3.00000000e+00  8.24880000e+01]\n",
      " [-2.02600000e+02  3.00000000e+00  5.50000000e+00]]\n",
      "[[ 0.00000000e+00  3.00000000e+00  7.75120000e+01]\n",
      " [ 0.00000000e+00 -3.00000000e+00  7.75120000e+01]\n",
      " [-2.84217094e-14 -3.00000000e+00  8.24880000e+01]\n",
      " [-2.84217094e-14  3.00000000e+00  8.24880000e+01]]\n",
      "[[ 3.    77.512]\n",
      " [-3.    77.512]\n",
      " [-3.    82.488]\n",
      " [ 3.    82.488]]\n"
     ]
    }
   ],
   "source": [
    "\"函数测试\"\n",
    "print(GroundProjection(np.array([1,2,3]),np.array([-1,-3,-4])))\n",
    "print(IntersectArea([[1,1],[2,1],[2,3],[1,3]],[[1,2],[1.5,1],[3,4],[2,4]]))\n",
    "vector = np.array([200,0,76])\n",
    "points = np.array([[-197.4,3,2.5],[-197.4,-3,2.5],[-202.60,-3,5.5],[-202.60,3,5.5]])\n",
    "print(ColumnProjection(vector,points)[:,[0,2]])"
   ]
  },
  {
   "cell_type": "code",
   "execution_count": 19,
   "metadata": {},
   "outputs": [],
   "source": [
    "\"距离矩阵\"\n",
    "\n",
    "#读取数据\n",
    "data = pd.read_excel('附件.xlsx')\n",
    "data = np.array(data)\n",
    "\n",
    "# 计算每个样本的欧式\n",
    "def distance(P1, P2):\n",
    "    return np.sqrt(np.sum((P1 - P2) ** 2))\n",
    "\n",
    "# 创建result矩阵，用于存放每个样本之间的距离\n",
    "result = np.zeros((len(data), len(data)))\n",
    "for i in range(len(data)):\n",
    "    for j in range(len(data)):\n",
    "        if i < j:\n",
    "            result[i][j] = distance(data[i], data[j])\n",
    "        else:\n",
    "            result[i][j] = 0\n",
    "# 把上三角矩阵result转化为对称矩阵\n",
    "for i in range(len(data)):\n",
    "    for j in range(len(data)):\n",
    "        if i > j:\n",
    "            result[i][j] = result[j][i]"
   ]
  },
  {
   "cell_type": "code",
   "execution_count": 20,
   "metadata": {},
   "outputs": [
    {
     "data": {
      "text/plain": [
       "array([[107.25 ,  11.664],\n",
       "       [105.36 ,  23.191],\n",
       "       [102.235,  34.447],\n",
       "       ...,\n",
       "       [334.636, -40.95 ],\n",
       "       [336.233, -24.609],\n",
       "       [337.032,  -8.21 ]])"
      ]
     },
     "execution_count": 20,
     "metadata": {},
     "output_type": "execute_result"
    }
   ],
   "source": [
    "data"
   ]
  },
  {
   "cell_type": "code",
   "execution_count": 14,
   "metadata": {},
   "outputs": [
    {
     "name": "stdout",
     "output_type": "stream",
     "text": [
      "17.4309154601833 -59 9\n",
      "16.829321995177068 245 9\n",
      "14.404529570653825 275 9\n",
      "14.404529570653825\n"
     ]
    },
    {
     "data": {
      "text/plain": [
       "27.254254940193462"
      ]
     },
     "execution_count": 14,
     "metadata": {},
     "output_type": "execute_result"
    }
   ],
   "source": [
    "\"计算镜子阴影最大影响范围\"\n",
    "\"\"\"\n",
    "1/21  21\n",
    "2/21  52\n",
    "3/21  80\n",
    "4/21  111\n",
    "5/21  141\n",
    "6/21  172\n",
    "7/21  202\n",
    "8/21  233\n",
    "9/21  263\n",
    "10/21 294\n",
    "11/21 325\n",
    "12/21 355\n",
    "\"\"\"\n",
    "\n",
    "min_sun_angle = 1000\n",
    "\n",
    "phi = 39.4/180*np.pi\n",
    "for day in [21,52,80,111,141,172,202,233,263,294,325,355]:\n",
    "    day-=80\n",
    "    for hour in [9,10.5,12,13.5,15]:\n",
    "        __temp_min_sun_angle = get_alpha_s(phi,day,hour)\n",
    "        if __temp_min_sun_angle < min_sun_angle:\n",
    "            min_sun_angle = __temp_min_sun_angle\n",
    "            print(min_sun_angle/np.pi*180,day,hour)\n",
    "\n",
    "print(min_sun_angle/np.pi*180)\n",
    "\n",
    "tall = 7\n",
    "\n",
    "max_range = 7/np.tan(min_sun_angle)\n",
    "\n",
    "max_range"
   ]
  },
  {
   "cell_type": "code",
   "execution_count": null,
   "metadata": {},
   "outputs": [],
   "source": [
    "TC=np.array([0,0,80])\n",
    "# 集热塔大小\n",
    "TOWER = np.array([3.5,-4],[3.5,4],[-3.5,4],[-3.5,-4])\n",
    "\n",
    "def e_mirror_rate(ID,phi,day,hour,):\n",
    "    '''\n",
    "        \n",
    "        返回 单面镜子 集热塔截断面积占比  截断效率\n",
    "\n",
    "        ID:镜子编号\n",
    "        维度phi 时间day hour  -- 太阳照射角度\n",
    "        镜子中心坐标，  -- 镜子法向量&四角坐标\n",
    "    '''\n",
    "    mirror_center_point = data[ID]\n",
    "    # 计算镜子投影位置并旋转\n",
    "    sun_alpha = get_alpha_s(phi,day,hour)\n",
    "    sun_vector = get_sun_vector(sun_alpha,get_gamma_s(phi,day,hour))\n",
    "    mirror_column = get_mirror_out_vector(mirror_center_point)\n",
    "    mirror_points = get_mirror_point(mirror_center_point,get_mirror_normal_vector(mirror_center_point,sun_vector,mirror_column))\n",
    "\n",
    "\n",
    "\n",
    "    \"截断效率\"\n",
    "    x_points = ColumnProjection(mirror_column,mirror_points,mirror_center_point)\n",
    "    # 坐标二维化\n",
    "    points = x_points[:,[0,2]]\n",
    "\n",
    "    # 计算截断面积\n",
    "    cut_area,area = IntersectArea(tower,points)\n",
    "    # 计算投射总面积\n",
    "    cut_rate = area/cut_area\n",
    "\n",
    "    \n",
    "    \"阴影遮挡效率\"\n",
    "    #读取附近镜子\n",
    "    max_range = 7/np.tan(sun_alpha)\n",
    "\n",
    "    nearby = judge(result,ID,max_range)\n",
    "    \n",
    "\n"
   ]
  }
 ],
 "metadata": {
  "kernelspec": {
   "display_name": "Python 3",
   "language": "python",
   "name": "python3"
  },
  "language_info": {
   "codemirror_mode": {
    "name": "ipython",
    "version": 3
   },
   "file_extension": ".py",
   "mimetype": "text/x-python",
   "name": "python",
   "nbconvert_exporter": "python",
   "pygments_lexer": "ipython3",
   "version": "3.11.5"
  },
  "orig_nbformat": 4
 },
 "nbformat": 4,
 "nbformat_minor": 2
}
