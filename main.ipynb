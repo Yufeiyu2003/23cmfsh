{
 "cells": [
  {
   "cell_type": "code",
   "execution_count": 1,
   "metadata": {},
   "outputs": [],
   "source": [
    "from GroundProjection import *\n",
    "from IntersectArea import *\n",
    "from ColumnProjection import *\n",
    "from shapely.geometry import Polygon\n",
    "import numpy as np\n"
   ]
  },
  {
   "cell_type": "code",
   "execution_count": 2,
   "metadata": {},
   "outputs": [
    {
     "name": "stdout",
     "output_type": "stream",
     "text": [
      "[1.75 0.   6.  ]\n"
     ]
    }
   ],
   "source": [
    "print(GroundProjection(np.array([1,2,3]),np.array([-1,-3,-4])))"
   ]
  },
  {
   "cell_type": "code",
   "execution_count": 2,
   "metadata": {},
   "outputs": [
    {
     "name": "stdout",
     "output_type": "stream",
     "text": [
      "a\n",
      "[[   0.       3.      77.512]\n",
      " [-197.4     -3.       2.5  ]\n",
      " [-202.6      3.       5.5  ]\n",
      " [-202.6     -3.       5.5  ]]\n",
      "[[   0.       3.      77.512]\n",
      " [   0.      -3.      77.512]\n",
      " [-202.6      3.       5.5  ]\n",
      " [-202.6     -3.       5.5  ]]\n",
      "[[ 0.00000000e+00  3.00000000e+00  7.75120000e+01]\n",
      " [ 0.00000000e+00 -3.00000000e+00  7.75120000e+01]\n",
      " [-2.84217094e-14  3.00000000e+00  8.24880000e+01]\n",
      " [-2.02600000e+02 -3.00000000e+00  5.50000000e+00]]\n",
      "[[ 0.00000000e+00  3.00000000e+00  7.75120000e+01]\n",
      " [ 0.00000000e+00 -3.00000000e+00  7.75120000e+01]\n",
      " [-2.84217094e-14  3.00000000e+00  8.24880000e+01]\n",
      " [-2.84217094e-14 -3.00000000e+00  8.24880000e+01]]\n",
      "[[ 3.00000000e+00  0.00000000e+00  7.75120000e+01]\n",
      " [-3.00000000e+00  0.00000000e+00  7.75120000e+01]\n",
      " [ 3.00000000e+00  2.84217094e-14  8.24880000e+01]\n",
      " [-3.00000000e+00  2.84217094e-14  8.24880000e+01]]\n"
     ]
    }
   ],
   "source": [
    "vector = np.array([200,0,76])\n",
    "points = np.array([[-197.4,3,2.5],[-197.4,-3,2.5],[-202.60,3,5.5],[-202.60,-3,5.5]])\n",
    "print(ColumnProjection(vector,points))"
   ]
  },
  {
   "cell_type": "code",
   "execution_count": null,
   "metadata": {},
   "outputs": [],
   "source": [
    "def ever_mirror():\n",
    "    '''\n",
    "        输入时间\n",
    "    '''"
   ]
  }
 ],
 "metadata": {
  "kernelspec": {
   "display_name": "Python 3",
   "language": "python",
   "name": "python3"
  },
  "language_info": {
   "codemirror_mode": {
    "name": "ipython",
    "version": 3
   },
   "file_extension": ".py",
   "mimetype": "text/x-python",
   "name": "python",
   "nbconvert_exporter": "python",
   "pygments_lexer": "ipython3",
   "version": "3.11.5"
  },
  "orig_nbformat": 4
 },
 "nbformat": 4,
 "nbformat_minor": 2
}
