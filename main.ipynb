{
 "cells": [
  {
   "cell_type": "code",
   "execution_count": 1,
   "metadata": {},
   "outputs": [],
   "source": [
    "from GroundProjection import *\n",
    "from IntersectArea import *\n",
    "from ColumnProjection import *\n",
    "# from shapely.geometry import Polygon\n",
    "\n",
    "from 求太阳各角度 import *\n",
    "from 阳光向量 import *\n",
    "from 求镜面顶点 import *\n",
    "from 求镜面法向量 import *\n",
    "\n",
    "from judge import *  # 读取距离矩阵并分析\n",
    "\n",
    "import numpy as np\n",
    "import pandas as pd\n"
   ]
  },
  {
   "cell_type": "code",
   "execution_count": 13,
   "metadata": {},
   "outputs": [
    {
     "name": "stdout",
     "output_type": "stream",
     "text": [
      "a\n",
      "[[   0.       3.      77.512]\n",
      " [-197.4     -3.       2.5  ]\n",
      " [-202.6     -3.       5.5  ]\n",
      " [-202.6      3.       5.5  ]]\n",
      "[[   0.       3.      77.512]\n",
      " [   0.      -3.      77.512]\n",
      " [-202.6     -3.       5.5  ]\n",
      " [-202.6      3.       5.5  ]]\n",
      "[[ 0.00000000e+00  3.00000000e+00  7.75120000e+01]\n",
      " [ 0.00000000e+00 -3.00000000e+00  7.75120000e+01]\n",
      " [-2.84217094e-14 -3.00000000e+00  8.24880000e+01]\n",
      " [-2.02600000e+02  3.00000000e+00  5.50000000e+00]]\n",
      "[[ 0.00000000e+00  3.00000000e+00  7.75120000e+01]\n",
      " [ 0.00000000e+00 -3.00000000e+00  7.75120000e+01]\n",
      " [-2.84217094e-14 -3.00000000e+00  8.24880000e+01]\n",
      " [-2.84217094e-14  3.00000000e+00  8.24880000e+01]]\n",
      "[[ 3.    77.512]\n",
      " [-3.    77.512]\n",
      " [-3.    82.488]\n",
      " [ 3.    82.488]]\n"
     ]
    }
   ],
   "source": [
    "# 函数测试\n",
    "print(GroundProjection(np.array([1,2,3]),np.array([-1,-3,-4])))\n",
    "print(IntersectArea([[1,1],[2,1],[2,3],[1,3]],[[1,2],[1.5,1],[3,4],[2,4]]))\n",
    "vector = np.array([200,0,76])\n",
    "points = np.array([[-197.4,3,2.5],[-197.4,-3,2.5],[-202.60,-3,5.5],[-202.60,3,5.5]])\n",
    "print(ColumnProjection(vector,points)[:,[0,2]])"
   ]
  },
  {
   "cell_type": "code",
   "execution_count": null,
   "metadata": {},
   "outputs": [],
   "source": [
    "# 距离矩阵\n",
    "\n",
    "#读取数据\n",
    "data = pd.read_excel('附件.xlsx')\n",
    "data = np.array(data)\n",
    "\n",
    "# 计算每个样本的欧式\n",
    "def distance(P1, P2):\n",
    "    return np.sqrt(np.sum((P1 - P2) ** 2))\n",
    "\n",
    "# 创建result矩阵，用于存放每个样本之间的距离\n",
    "result = np.zeros((len(data), len(data)))\n",
    "for i in range(len(data)):\n",
    "    for j in range(len(data)):\n",
    "        if i < j:\n",
    "            result[i][j] = distance(data[i], data[j])\n",
    "        else:\n",
    "            result[i][j] = 0\n",
    "# 把上三角矩阵result转化为对称矩阵\n",
    "for i in range(len(data)):\n",
    "    for j in range(len(data)):\n",
    "        if i > j:\n",
    "            result[i][j] = result[j][i]"
   ]
  },
  {
   "cell_type": "code",
   "execution_count": null,
   "metadata": {},
   "outputs": [],
   "source": [
    "\n",
    "def e_mirror_rate(phi,day,hour,mirror_center_point):\n",
    "    '''\n",
    "        返回 单面镜子 集热塔截断面积占比  截断效率\n",
    "        \n",
    "        维度phi 时间day hour  -- 太阳照射角度\n",
    "        镜子中心坐标，  -- 镜子法向量&四角坐标\n",
    "    '''\n",
    "\n",
    "    # 计算镜子投影位置并旋转\n",
    "    sun_vector = get_sun_vector(get_alpha_s(phi,day,hour),get_gamma_s(phi,day,hour))\n",
    "    mirror_column = get_mirror_out_vector(mirror_center_point)\n",
    "    mirror_points = get_mirror_point(mirror_center_point,get_mirror_normal_vector(mirror_center_point,sun_vector,mirror_column))\n",
    "\n",
    "\n",
    "\n",
    "    \"截断效率\"\n",
    "    x_points = ColumnProjection(mirror_column,mirror_points)\n",
    "    # 坐标二维化\n",
    "    points = x_points[:,[0,2]]\n",
    "    # 集热塔大小\n",
    "    tower = np.array([3.5,76],[3.5,84],[-3.5,84],[-3.5,76])\n",
    "    # 计算截断面积\n",
    "    cut_area,area = IntersectArea(tower,points)\n",
    "    # 计算投射总面积\n",
    "    cut_rate = area/cut_area\n",
    "\n",
    "    \n",
    "    \"每面镜子受相邻镜子阴影遮挡影响后的效率\"\n",
    "\n",
    "\n"
   ]
  }
 ],
 "metadata": {
  "kernelspec": {
   "display_name": "Python 3",
   "language": "python",
   "name": "python3"
  },
  "language_info": {
   "codemirror_mode": {
    "name": "ipython",
    "version": 3
   },
   "file_extension": ".py",
   "mimetype": "text/x-python",
   "name": "python",
   "nbconvert_exporter": "python",
   "pygments_lexer": "ipython3",
   "version": "3.11.5"
  },
  "orig_nbformat": 4
 },
 "nbformat": 4,
 "nbformat_minor": 2
}
