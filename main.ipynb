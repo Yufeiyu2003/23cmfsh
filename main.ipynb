{
 "cells": [
  {
   "cell_type": "code",
   "execution_count": 2,
   "metadata": {},
   "outputs": [],
   "source": [
    "from GroundProjection import *\n",
    "from IntersectArea import *\n",
    "from ColumnProjection import *\n",
    "from shapely.geometry import Polygon\n",
    "\n",
    "from 求太阳各角度 import *\n",
    "from 阳光向量 import *\n",
    "from 求镜面顶点 import *\n",
    "from 求镜面法向量 import *\n",
    "\n",
    "from judge import *  # 读取距离矩阵并分析\n",
    "\n",
    "import numpy as np\n",
    "import pandas as pd\n"
   ]
  },
  {
   "cell_type": "code",
   "execution_count": 3,
   "metadata": {},
   "outputs": [
    {
     "data": {
      "text/plain": [
       "'函数测试'"
      ]
     },
     "execution_count": 3,
     "metadata": {},
     "output_type": "execute_result"
    }
   ],
   "source": [
    "\"函数测试\"\n",
    "# print(GroundProjection(np.array([1,2,3]),np.array([-1,-3,-4])))\n",
    "# print(IntersectArea([[1,1],[2,1],[2,3],[1,3]],[[1,2],[1.5,1],[3,4],[2,4]]))\n",
    "# vector = np.array([200,0,76])\n",
    "# points = np.array([[-197.4,3,2.5],[-197.4,-3,2.5],[-202.60,-3,5.5],[-202.60,3,5.5]])\n",
    "# print(ColumnProjection(vector,points)[:,[0,2]])"
   ]
  },
  {
   "cell_type": "code",
   "execution_count": 4,
   "metadata": {},
   "outputs": [],
   "source": [
    "\"距离矩阵\"\n",
    "\n",
    "#读取数据\n",
    "data = pd.read_excel('附件.xlsx')\n",
    "data = np.array(data)\n",
    "\n",
    "# 计算每个样本的欧式\n",
    "def distance(P1, P2):\n",
    "    return np.sqrt(np.sum((P1 - P2) ** 2))\n",
    "\n",
    "# 创建result矩阵，用于存放每个样本之间的距离\n",
    "result = np.zeros((len(data), len(data)))\n",
    "for i in range(len(data)):\n",
    "    for j in range(len(data)):\n",
    "        if i < j:\n",
    "            result[i][j] = distance(data[i,0:1], data[j,0:1])\n",
    "        else:\n",
    "            result[i][j] = 0\n",
    "# 把上三角矩阵result转化为对称矩阵\n",
    "for i in range(len(data)):\n",
    "    for j in range(len(data)):\n",
    "        if i > j:\n",
    "            result[i][j] = result[j][i]"
   ]
  },
  {
   "cell_type": "code",
   "execution_count": 5,
   "metadata": {},
   "outputs": [
    {
     "name": "stdout",
     "output_type": "stream",
     "text": [
      "17.4309154601833 -59 9\n",
      "16.829321995177068 245 9\n",
      "14.404529570653825 275 9\n",
      "14.404529570653825\n"
     ]
    },
    {
     "data": {
      "text/plain": [
       "27.254254940193462"
      ]
     },
     "execution_count": 5,
     "metadata": {},
     "output_type": "execute_result"
    }
   ],
   "source": [
    "\"计算镜子阴影最大影响范围\"\n",
    "\"\"\"\n",
    "1/21  21\n",
    "2/21  52\n",
    "3/21  80\n",
    "4/21  111\n",
    "5/21  141\n",
    "6/21  172\n",
    "7/21  202\n",
    "8/21  233\n",
    "9/21  263\n",
    "10/21 294\n",
    "11/21 325\n",
    "12/21 355\n",
    "\"\"\"\n",
    "\n",
    "min_sun_angle = 1000\n",
    "\n",
    "phi = 39.4/180*np.pi\n",
    "for day in [21,52,80,111,141,172,202,233,263,294,325,355]:\n",
    "    day-=80\n",
    "    for hour in [9,10.5,12,13.5,15]:\n",
    "        __temp_min_sun_angle = get_alpha_s(phi,day,hour)\n",
    "        if __temp_min_sun_angle < min_sun_angle:\n",
    "            min_sun_angle = __temp_min_sun_angle\n",
    "            print(min_sun_angle/np.pi*180,day,hour)\n",
    "\n",
    "print(min_sun_angle/np.pi*180)\n",
    "\n",
    "tall = 7\n",
    "\n",
    "max_range = 7/np.tan(min_sun_angle)\n",
    "\n",
    "max_range"
   ]
  },
  {
   "cell_type": "code",
   "execution_count": 8,
   "metadata": {},
   "outputs": [],
   "source": [
    "TC=np.array([0,0,80])\n",
    "# 集热塔大小\n",
    "TOWER = np.array([[3.5,-4],[3.5,4],[-3.5,4],[-3.5,-4]])\n",
    "\n",
    "def e_mirror_rate(ID,phi,day,hour):\n",
    "    '''\n",
    "        \n",
    "        返回 单面镜子 集热塔截断面积占比  截断效率\n",
    "\n",
    "        ID:镜子编号\n",
    "        维度phi 时间day hour  -- 太阳照射角度\n",
    "        镜子中心坐标，  -- 镜子法向量&四角坐标\n",
    "    '''\n",
    "    mirror_center_point = np.array([data[ID][0],data[ID][1],4])\n",
    "    # print(mirror_center_point)\n",
    "    # 计算镜子投影位置并旋转\n",
    "    sun_alpha = get_alpha_s(phi,day,hour)\n",
    "    sun_vector = get_sun_vector(sun_alpha,get_gamma_s(phi,day,hour))\n",
    "    mirror_column = get_mirror_out_vector(mirror_center_point)\n",
    "    mirror_points = get_mirror_point(mirror_center_point,get_mirror_normal_vector(mirror_center_point,sun_vector,mirror_column),6,6)\n",
    "\n",
    "    print(mirror_points)\n",
    "\n",
    "    \"截断效率\"\n",
    "    cut_rate = ColumnProjection(mirror_column,mirror_points.copy(),mirror_center_point)\n",
    "\n",
    "\n",
    "    \n",
    "    \"阴影遮挡效率\"\n",
    "    shadow_area = 0\n",
    "    #读取附近镜子\n",
    "    max_range = 7/np.tan(sun_alpha)\n",
    "    nearby = judge(result,ID,max_range)\n",
    "\n",
    "    #获取自己的投影\n",
    "    my_points = GroundProjection(mirror_points,sun_vector)\n",
    "    poly1 = Polygon(my_points).convex_hull\n",
    "    my_area = poly1.area\n",
    "    # print(max_range)\n",
    "    # print(my_points)\n",
    "    for mirror in nearby:\n",
    "        # 假设附近镜子朝向和自己相差无几\n",
    "        mirror = data[mirror]\n",
    "        mirror = np.array([mirror[0],mirror[1],4])\n",
    "        m_mirror_points = get_mirror_point(mirror,get_mirror_normal_vector(mirror,sun_vector,get_mirror_out_vector(mirror)),6,6)\n",
    "        o_points = GroundProjection(m_mirror_points.copy(),sun_vector)\n",
    "        # print(o_points)\n",
    "        # print(IntersectArea(poly1,o_points)[0])\n",
    "        shadow_area += IntersectArea(poly1,o_points)[0]\n",
    "\n",
    "    shadow_rate = 1-shadow_area/my_area\n",
    "\n",
    "    return [cut_rate,shadow_rate]\n",
    "\n",
    "    \n",
    "    \n",
    "\n"
   ]
  },
  {
   "cell_type": "code",
   "execution_count": 18,
   "metadata": {},
   "outputs": [
    {
     "name": "stdout",
     "output_type": "stream",
     "text": [
      "[[235.15418162 221.77831976   6.12736772]\n",
      " [230.92642804 221.62559149   1.87263228]\n",
      " [230.70981838 227.62168024   1.87263228]\n",
      " [234.93757196 227.77440851   6.12736772]]\n",
      "[1.0, 0.6466796419074078]\n"
     ]
    }
   ],
   "source": [
    "print(e_mirror_rate(1500,39.4/180*np.pi,270,9))"
   ]
  },
  {
   "cell_type": "code",
   "execution_count": 27,
   "metadata": {},
   "outputs": [
    {
     "data": {
      "image/png": "[encoded data removed]",
      "text/plain": [
       "<Figure size 640x480 with 1 Axes>"
      ]
     },
     "metadata": {},
     "output_type": "display_data"
    }
   ],
   "source": [
    "import matplotlib.pyplot as plt\n",
    "original_points=np.array([[ 1.39583765, -0.82292483, 81.38399127],\n",
    " [-2.11626684 , 1.24765836, 77.16015629],\n",
    " [-1.39583765,  0.82292483, 78.61600873],\n",
    " [ 2.11626684 ,-1.24765836 ,82.83984371]])\n",
    "\n",
    "\n",
    "o2 = np.array([[ -2.84463855 ,  0.54076367],\n",
    " [  9.70391976 ,-12.48141286],\n",
    " [  2.75757685 , -0.42878773],\n",
    " [ -3.54863472 ,  5.27300722]])\n",
    "\n",
    "        # 画图\n",
    "fig = plt.figure()\n",
    "ax = fig.add_subplot(111, projection='3d')\n",
    "        #画出原始顶点\n",
    "ax.scatter(original_points[:,0],original_points[:,1],original_points[:,2],c='r')\n",
    "#ax.scatter(o2[:,0],o2[:,1],c='b')\n",
    "        #等比例显示\n",
    "ax.set_aspect('equal')\n",
    "\n",
    "plt.show()"
   ]
  }
 ],
 "metadata": {
  "kernelspec": {
   "display_name": "Python 3",
   "language": "python",
   "name": "python3"
  },
  "language_info": {
   "codemirror_mode": {
    "name": "ipython",
    "version": 3
   },
   "file_extension": ".py",
   "mimetype": "text/x-python",
   "name": "python",
   "nbconvert_exporter": "python",
   "pygments_lexer": "ipython3",
   "version": "3.11.5"
  },
  "orig_nbformat": 4
 },
 "nbformat": 4,
 "nbformat_minor": 2
}
