{
 "cells": [
  {
   "cell_type": "code",
   "execution_count": 1,
   "metadata": {},
   "outputs": [],
   "source": [
    "from GroundProjection import *\n",
    "from IntersectArea import *\n",
    "from ColumnProjection import *\n",
    "# from shapely.geometry import Polygon\n",
    "\n",
    "from 求太阳各角度 import *\n",
    "from 阳光向量 import *\n",
    "from 求镜面顶点 import *\n",
    "from 求镜面法向量 import *\n",
    "\n",
    "from judge import *  # 读取距离矩阵并分析\n",
    "\n",
    "import numpy as np\n",
    "import pandas as pd\n"
   ]
  },
  {
   "cell_type": "code",
   "execution_count": 13,
   "metadata": {},
   "outputs": [
    {
     "name": "stdout",
     "output_type": "stream",
     "text": [
      "a\n",
      "[[   0.       3.      77.512]\n",
      " [-197.4     -3.       2.5  ]\n",
      " [-202.6     -3.       5.5  ]\n",
      " [-202.6      3.       5.5  ]]\n",
      "[[   0.       3.      77.512]\n",
      " [   0.      -3.      77.512]\n",
      " [-202.6     -3.       5.5  ]\n",
      " [-202.6      3.       5.5  ]]\n",
      "[[ 0.00000000e+00  3.00000000e+00  7.75120000e+01]\n",
      " [ 0.00000000e+00 -3.00000000e+00  7.75120000e+01]\n",
      " [-2.84217094e-14 -3.00000000e+00  8.24880000e+01]\n",
      " [-2.02600000e+02  3.00000000e+00  5.50000000e+00]]\n",
      "[[ 0.00000000e+00  3.00000000e+00  7.75120000e+01]\n",
      " [ 0.00000000e+00 -3.00000000e+00  7.75120000e+01]\n",
      " [-2.84217094e-14 -3.00000000e+00  8.24880000e+01]\n",
      " [-2.84217094e-14  3.00000000e+00  8.24880000e+01]]\n",
      "[[ 3.    77.512]\n",
      " [-3.    77.512]\n",
      " [-3.    82.488]\n",
      " [ 3.    82.488]]\n"
     ]
    }
   ],
   "source": [
    "# 函数测试\n",
    "print(GroundProjection(np.array([1,2,3]),np.array([-1,-3,-4])))\n",
    "print(IntersectArea([[1,1],[2,1],[2,3],[1,3]],[[1,2],[1.5,1],[3,4],[2,4]]))\n",
    "vector = np.array([200,0,76])\n",
    "points = np.array([[-197.4,3,2.5],[-197.4,-3,2.5],[-202.60,-3,5.5],[-202.60,3,5.5]])\n",
    "print(ColumnProjection(vector,points)[:,[0,2]])"
   ]
  },
  {
   "cell_type": "code",
   "execution_count": null,
   "metadata": {},
   "outputs": [],
   "source": [
    "# 距离矩阵计算\n",
    "\n",
    "#读取数据\n",
    "data = pd.read_excel('附件.xlsx')\n",
    "data = np.array(data)\n",
    "\n",
    "# 计算每个样本的欧式\n",
    "def distance(P1, P2):\n",
    "    return np.sqrt(np.sum((P1 - P2) ** 2))\n",
    "\n",
    "# 创建result矩阵，用于存放每个样本之间的距离\n",
    "result = np.zeros((len(data), len(data)))\n",
    "for i in range(len(data)):\n",
    "    for j in range(len(data)):\n",
    "        if i < j:\n",
    "            result[i][j] = distance(data[i], data[j])\n",
    "        else:\n",
    "            result[i][j] = 0\n",
    "# 把上三角矩阵result转化为对称矩阵\n",
    "for i in range(len(data)):\n",
    "    for j in range(len(data)):\n",
    "        if i > j:\n",
    "            result[i][j] = result[j][i]"
   ]
  },
  {
   "cell_type": "code",
   "execution_count": null,
   "metadata": {},
   "outputs": [],
   "source": [
    "\n",
    "    \n"
   ]
  }
 ],
 "metadata": {
  "kernelspec": {
   "display_name": "Python 3",
   "language": "python",
   "name": "python3"
  },
  "language_info": {
   "codemirror_mode": {
    "name": "ipython",
    "version": 3
   },
   "file_extension": ".py",
   "mimetype": "text/x-python",
   "name": "python",
   "nbconvert_exporter": "python",
   "pygments_lexer": "ipython3",
   "version": "3.11.5"
  },
  "orig_nbformat": 4
 },
 "nbformat": 4,
 "nbformat_minor": 2
}
