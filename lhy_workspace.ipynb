{
 "cells": [
  {
   "cell_type": "code",
   "execution_count": 1,
   "metadata": {},
   "outputs": [],
   "source": [
    "import 定日镜光学效率 as eff\n",
    "import pandas as pd\n",
    "import numpy as np\n"
   ]
  },
  {
   "cell_type": "code",
   "execution_count": 2,
   "metadata": {},
   "outputs": [
    {
     "data": {
      "text/html": [
       "<div>\n",
       "<style scoped>\n",
       "    .dataframe tbody tr th:only-of-type {\n",
       "        vertical-align: middle;\n",
       "    }\n",
       "\n",
       "    .dataframe tbody tr th {\n",
       "        vertical-align: top;\n",
       "    }\n",
       "\n",
       "    .dataframe thead th {\n",
       "        text-align: right;\n",
       "    }\n",
       "</style>\n",
       "<table border=\"1\" class=\"dataframe\">\n",
       "  <thead>\n",
       "    <tr style=\"text-align: right;\">\n",
       "      <th></th>\n",
       "      <th>x坐标 (m)</th>\n",
       "      <th>y坐标 (m)</th>\n",
       "    </tr>\n",
       "  </thead>\n",
       "  <tbody>\n",
       "    <tr>\n",
       "      <th>0</th>\n",
       "      <td>107.250</td>\n",
       "      <td>11.664</td>\n",
       "    </tr>\n",
       "    <tr>\n",
       "      <th>1</th>\n",
       "      <td>105.360</td>\n",
       "      <td>23.191</td>\n",
       "    </tr>\n",
       "    <tr>\n",
       "      <th>2</th>\n",
       "      <td>102.235</td>\n",
       "      <td>34.447</td>\n",
       "    </tr>\n",
       "    <tr>\n",
       "      <th>3</th>\n",
       "      <td>97.911</td>\n",
       "      <td>45.299</td>\n",
       "    </tr>\n",
       "    <tr>\n",
       "      <th>4</th>\n",
       "      <td>92.440</td>\n",
       "      <td>55.619</td>\n",
       "    </tr>\n",
       "  </tbody>\n",
       "</table>\n",
       "</div>"
      ],
      "text/plain": [
       "   x坐标 (m)  y坐标 (m)\n",
       "0  107.250   11.664\n",
       "1  105.360   23.191\n",
       "2  102.235   34.447\n",
       "3   97.911   45.299\n",
       "4   92.440   55.619"
      ]
     },
     "execution_count": 2,
     "metadata": {},
     "output_type": "execute_result"
    }
   ],
   "source": [
    "#读取 附件.xlsx 中的数据\n",
    "df = pd.read_excel('附件.xlsx',header=0)\n",
    "df.head()"
   ]
  },
  {
   "cell_type": "code",
   "execution_count": 3,
   "metadata": {},
   "outputs": [
    {
     "data": {
      "text/html": [
       "<div>\n",
       "<style scoped>\n",
       "    .dataframe tbody tr th:only-of-type {\n",
       "        vertical-align: middle;\n",
       "    }\n",
       "\n",
       "    .dataframe tbody tr th {\n",
       "        vertical-align: top;\n",
       "    }\n",
       "\n",
       "    .dataframe thead th {\n",
       "        text-align: right;\n",
       "    }\n",
       "</style>\n",
       "<table border=\"1\" class=\"dataframe\">\n",
       "  <thead>\n",
       "    <tr style=\"text-align: right;\">\n",
       "      <th></th>\n",
       "      <th>x坐标 (m)</th>\n",
       "      <th>y坐标 (m)</th>\n",
       "      <th>安装高度z</th>\n",
       "      <th>尺寸宽w</th>\n",
       "      <th>尺寸长l</th>\n",
       "    </tr>\n",
       "  </thead>\n",
       "  <tbody>\n",
       "    <tr>\n",
       "      <th>0</th>\n",
       "      <td>107.250</td>\n",
       "      <td>11.664</td>\n",
       "      <td>4</td>\n",
       "      <td>6</td>\n",
       "      <td>6</td>\n",
       "    </tr>\n",
       "    <tr>\n",
       "      <th>1</th>\n",
       "      <td>105.360</td>\n",
       "      <td>23.191</td>\n",
       "      <td>4</td>\n",
       "      <td>6</td>\n",
       "      <td>6</td>\n",
       "    </tr>\n",
       "    <tr>\n",
       "      <th>2</th>\n",
       "      <td>102.235</td>\n",
       "      <td>34.447</td>\n",
       "      <td>4</td>\n",
       "      <td>6</td>\n",
       "      <td>6</td>\n",
       "    </tr>\n",
       "    <tr>\n",
       "      <th>3</th>\n",
       "      <td>97.911</td>\n",
       "      <td>45.299</td>\n",
       "      <td>4</td>\n",
       "      <td>6</td>\n",
       "      <td>6</td>\n",
       "    </tr>\n",
       "    <tr>\n",
       "      <th>4</th>\n",
       "      <td>92.440</td>\n",
       "      <td>55.619</td>\n",
       "      <td>4</td>\n",
       "      <td>6</td>\n",
       "      <td>6</td>\n",
       "    </tr>\n",
       "  </tbody>\n",
       "</table>\n",
       "</div>"
      ],
      "text/plain": [
       "   x坐标 (m)  y坐标 (m)  安装高度z  尺寸宽w  尺寸长l\n",
       "0  107.250   11.664      4     6     6\n",
       "1  105.360   23.191      4     6     6\n",
       "2  102.235   34.447      4     6     6\n",
       "3   97.911   45.299      4     6     6\n",
       "4   92.440   55.619      4     6     6"
      ]
     },
     "execution_count": 3,
     "metadata": {},
     "output_type": "execute_result"
    }
   ],
   "source": [
    "#加入额外数据\n",
    "#安装高度\n",
    "df['安装高度z'] = 4\n",
    "#尺寸\n",
    "df['尺寸宽w'] = 6\n",
    "df['尺寸长l'] = 6\n",
    "\n",
    "df.head()"
   ]
  },
  {
   "cell_type": "code",
   "execution_count": 4,
   "metadata": {},
   "outputs": [
    {
     "data": {
      "text/plain": [
       "array([[107.25 ,  11.664,   4.   ,   6.   ,   6.   ],\n",
       "       [105.36 ,  23.191,   4.   ,   6.   ,   6.   ],\n",
       "       [102.235,  34.447,   4.   ,   6.   ,   6.   ],\n",
       "       ...,\n",
       "       [334.636, -40.95 ,   4.   ,   6.   ,   6.   ],\n",
       "       [336.233, -24.609,   4.   ,   6.   ,   6.   ],\n",
       "       [337.032,  -8.21 ,   4.   ,   6.   ,   6.   ]])"
      ]
     },
     "execution_count": 4,
     "metadata": {},
     "output_type": "execute_result"
    }
   ],
   "source": [
    "#转换为nddarray\n",
    "mirrors = df.values\n",
    "mirrors"
   ]
  },
  {
   "cell_type": "markdown",
   "metadata": {},
   "source": [
    "## 计算效率"
   ]
  },
  {
   "cell_type": "code",
   "execution_count": 5,
   "metadata": {},
   "outputs": [
    {
     "name": "stdout",
     "output_type": "stream",
     "text": [
      "cos gamma_s -1.0000000000000016\n",
      "总功率 48328.2212459266\n",
      "单位面积功率 0.7693126591201306\n"
     ]
    }
   ],
   "source": [
    "import 求太阳各角度 as sun\n",
    "Day=90\n",
    "hour=12\n",
    "phi=39.2*np.pi/180\n",
    "\n",
    "print(\"cos gamma_s\",sun.get_cos_gamma_s(phi,Day,hour))\n",
    "\n",
    "ps,tal,per=eff.E_field(mirrors,Day,hour,phi,3)\n",
    "\n",
    "print(\"总功率\",tal)\n",
    "print(\"单位面积功率\",per)"
   ]
  },
  {
   "cell_type": "code",
   "execution_count": 9,
   "metadata": {},
   "outputs": [
    {
     "name": "stdout",
     "output_type": "stream",
     "text": [
      "总功率 67286.09550182991\n",
      "效率 0.7182497496026095\n"
     ]
    }
   ],
   "source": [
    "import DNI as dni\n",
    "#计算如果效率为1，总功率为多少\n",
    "P_pr = dni.get_DNI(sun.get_alpha_s(phi,Day,hour),3) * 6 * 6 * mirrors.shape[0]\n",
    "print(\"总功率\",P_pr)\n",
    "\n",
    "#计算效率\n",
    "print(\"效率\",tal/P_pr)"
   ]
  }
 ],
 "metadata": {
  "kernelspec": {
   "display_name": "base",
   "language": "python",
   "name": "python3"
  },
  "language_info": {
   "codemirror_mode": {
    "name": "ipython",
    "version": 3
   },
   "file_extension": ".py",
   "mimetype": "text/x-python",
   "name": "python",
   "nbconvert_exporter": "python",
   "pygments_lexer": "ipython3",
   "version": "3.9.13"
  },
  "orig_nbformat": 4
 },
 "nbformat": 4,
 "nbformat_minor": 2
}
