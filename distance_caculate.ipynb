{
 "cells": [
  {
   "cell_type": "code",
   "execution_count": 1,
   "metadata": {},
   "outputs": [],
   "source": [
    "import math\n",
    "import numpy as np\n",
    "import pandas as pd"
   ]
  },
  {
   "cell_type": "code",
   "execution_count": 2,
   "metadata": {},
   "outputs": [
    {
     "data": {
      "text/html": [
       "<div>\n",
       "<style scoped>\n",
       "    .dataframe tbody tr th:only-of-type {\n",
       "        vertical-align: middle;\n",
       "    }\n",
       "\n",
       "    .dataframe tbody tr th {\n",
       "        vertical-align: top;\n",
       "    }\n",
       "\n",
       "    .dataframe thead th {\n",
       "        text-align: right;\n",
       "    }\n",
       "</style>\n",
       "<table border=\"1\" class=\"dataframe\">\n",
       "  <thead>\n",
       "    <tr style=\"text-align: right;\">\n",
       "      <th></th>\n",
       "      <th>x坐标 (m)</th>\n",
       "      <th>y坐标 (m)</th>\n",
       "    </tr>\n",
       "  </thead>\n",
       "  <tbody>\n",
       "    <tr>\n",
       "      <th>0</th>\n",
       "      <td>107.250</td>\n",
       "      <td>11.664</td>\n",
       "    </tr>\n",
       "    <tr>\n",
       "      <th>1</th>\n",
       "      <td>105.360</td>\n",
       "      <td>23.191</td>\n",
       "    </tr>\n",
       "    <tr>\n",
       "      <th>2</th>\n",
       "      <td>102.235</td>\n",
       "      <td>34.447</td>\n",
       "    </tr>\n",
       "    <tr>\n",
       "      <th>3</th>\n",
       "      <td>97.911</td>\n",
       "      <td>45.299</td>\n",
       "    </tr>\n",
       "    <tr>\n",
       "      <th>4</th>\n",
       "      <td>92.440</td>\n",
       "      <td>55.619</td>\n",
       "    </tr>\n",
       "  </tbody>\n",
       "</table>\n",
       "</div>"
      ],
      "text/plain": [
       "   x坐标 (m)  y坐标 (m)\n",
       "0  107.250   11.664\n",
       "1  105.360   23.191\n",
       "2  102.235   34.447\n",
       "3   97.911   45.299\n",
       "4   92.440   55.619"
      ]
     },
     "execution_count": 2,
     "metadata": {},
     "output_type": "execute_result"
    }
   ],
   "source": [
    "#读取数据\n",
    "data = pd.read_excel('附件.xlsx')\n",
    "data.head()"
   ]
  },
  {
   "cell_type": "code",
   "execution_count": 3,
   "metadata": {},
   "outputs": [
    {
     "data": {
      "text/plain": [
       "array([[107.25 ,  11.664],\n",
       "       [105.36 ,  23.191],\n",
       "       [102.235,  34.447],\n",
       "       ...,\n",
       "       [334.636, -40.95 ],\n",
       "       [336.233, -24.609],\n",
       "       [337.032,  -8.21 ]])"
      ]
     },
     "execution_count": 3,
     "metadata": {},
     "output_type": "execute_result"
    }
   ],
   "source": [
    "# 将数据转化为矩阵\n",
    "data = np.array(data)\n",
    "data"
   ]
  },
  {
   "cell_type": "code",
   "execution_count": 10,
   "metadata": {},
   "outputs": [
    {
     "data": {
      "text/plain": [
       "array([[  0.   ,  13.417,  27.798, ..., 280.   , 265.256, 249.656],\n",
       "       [  0.   ,   0.   ,  14.381, ..., 293.417, 278.673, 263.073],\n",
       "       [  0.   ,   0.   ,   0.   , ..., 307.798, 293.054, 277.454],\n",
       "       ...,\n",
       "       [  0.   ,   0.   ,   0.   , ...,   0.   ,  17.938,  35.136],\n",
       "       [  0.   ,   0.   ,   0.   , ...,   0.   ,   0.   ,  17.198],\n",
       "       [  0.   ,   0.   ,   0.   , ...,   0.   ,   0.   ,   0.   ]])"
      ]
     },
     "execution_count": 10,
     "metadata": {},
     "output_type": "execute_result"
    }
   ],
   "source": [
    "# 计算每个样本的曼哈顿距离\n",
    "def manhattan_distance(P1, P2):\n",
    "    return np.sum(abs(P1 - P2))\n",
    "\n",
    "# 创建result矩阵，用于存放每个样本之间的曼哈顿距离\n",
    "result = np.zeros((len(data), len(data)))\n",
    "for i in range(len(data)):\n",
    "    for j in range(len(data)):\n",
    "        if i < j:\n",
    "            result[i][j] = manhattan_distance(data[i], data[j])\n",
    "        else:\n",
    "            result[i][j] = 0\n",
    "result"
   ]
  },
  {
   "cell_type": "code",
   "execution_count": 4,
   "metadata": {},
   "outputs": [
    {
     "data": {
      "text/plain": [
       "array([[  0.        ,  11.6809173 ,  23.32842288, ..., 233.39371455,\n",
       "        231.83818671, 230.63985649],\n",
       "       [  0.        ,   0.        ,  11.68174478, ..., 238.07887781,\n",
       "        235.76934094, 233.79037274],\n",
       "       [  0.        ,   0.        ,   0.        , ..., 244.3254641 ,\n",
       "        241.3351925 , 238.64042168],\n",
       "       ...,\n",
       "       [  0.        ,   0.        ,   0.        , ...,   0.        ,\n",
       "         16.41885167,  32.82755574],\n",
       "       [  0.        ,   0.        ,   0.        , ...,   0.        ,\n",
       "          0.        ,  16.41845309],\n",
       "       [  0.        ,   0.        ,   0.        , ...,   0.        ,\n",
       "          0.        ,   0.        ]])"
      ]
     },
     "execution_count": 4,
     "metadata": {},
     "output_type": "execute_result"
    }
   ],
   "source": [
    "# 计算每个样本的欧式\n",
    "def distance(P1, P2):\n",
    "    return np.sqrt(np.sum((P1 - P2) ** 2))\n",
    "\n",
    "# 创建result矩阵，用于存放每个样本之间的距离\n",
    "result = np.zeros((len(data), len(data)))\n",
    "for i in range(len(data)):\n",
    "    for j in range(len(data)):\n",
    "        if i < j:\n",
    "            result[i][j] = distance(data[i], data[j])\n",
    "        else:\n",
    "            result[i][j] = 0\n",
    "result"
   ]
  },
  {
   "cell_type": "code",
   "execution_count": 5,
   "metadata": {},
   "outputs": [
    {
     "data": {
      "text/plain": [
       "array([[  0.        ,  11.6809173 ,  23.32842288, ..., 233.39371455,\n",
       "        231.83818671, 230.63985649],\n",
       "       [ 11.6809173 ,   0.        ,  11.68174478, ..., 238.07887781,\n",
       "        235.76934094, 233.79037274],\n",
       "       [ 23.32842288,  11.68174478,   0.        , ..., 244.3254641 ,\n",
       "        241.3351925 , 238.64042168],\n",
       "       ...,\n",
       "       [233.39371455, 238.07887781, 244.3254641 , ...,   0.        ,\n",
       "         16.41885167,  32.82755574],\n",
       "       [231.83818671, 235.76934094, 241.3351925 , ...,  16.41885167,\n",
       "          0.        ,  16.41845309],\n",
       "       [230.63985649, 233.79037274, 238.64042168, ...,  32.82755574,\n",
       "         16.41845309,   0.        ]])"
      ]
     },
     "execution_count": 5,
     "metadata": {},
     "output_type": "execute_result"
    }
   ],
   "source": [
    "# 把上三角矩阵result转化为对称矩阵\n",
    "for i in range(len(data)):\n",
    "    for j in range(len(data)):\n",
    "        if i > j:\n",
    "            result[i][j] = result[j][i]\n",
    "result"
   ]
  },
  {
   "cell_type": "code",
   "execution_count": 6,
   "metadata": {},
   "outputs": [],
   "source": [
    "\n",
    "def judge(distances,i,judge_dis):\n",
    "    #对于样本i，返回distance中距离i小于judge_dis且不等于0的样本\n",
    "    #返回的是一个np.array\n",
    "    return np.where((distances[i - 1] < judge_dis) & (distances[i - 1] != 0))[0] + 1"
   ]
  },
  {
   "cell_type": "code",
   "execution_count": 7,
   "metadata": {},
   "outputs": [],
   "source": [
    "# 找到矩阵中最小值的位置\n",
    "def find_min(result):\n",
    "    min = np.min(result[np.nonzero(result)])\n",
    "    for i in range(len(result)):\n",
    "        for j in range(len(result)):\n",
    "            if result[i][j] == min:\n",
    "                return i, j"
   ]
  },
  {
   "cell_type": "code",
   "execution_count": 8,
   "metadata": {},
   "outputs": [
    {
     "data": {
      "text/plain": [
       "(12, 13)"
      ]
     },
     "execution_count": 8,
     "metadata": {},
     "output_type": "execute_result"
    }
   ],
   "source": [
    "find_min(result)"
   ]
  },
  {
   "cell_type": "code",
   "execution_count": 15,
   "metadata": {},
   "outputs": [
    {
     "data": {
      "text/plain": [
       "array([  2,   3,   4,   5,  55,  56,  57,  58,  59,  60,  61,  62,  63,\n",
       "       119, 120, 121, 122, 123, 124, 125, 126, 188, 189, 190, 191, 192,\n",
       "       193, 194, 267, 268], dtype=int64)"
      ]
     },
     "execution_count": 15,
     "metadata": {},
     "output_type": "execute_result"
    }
   ],
   "source": [
    "judge(result, 1, 50)"
   ]
  },
  {
   "cell_type": "code",
   "execution_count": 3,
   "metadata": {},
   "outputs": [
    {
     "data": {
      "text/html": [
       "<div>\n",
       "<style scoped>\n",
       "    .dataframe tbody tr th:only-of-type {\n",
       "        vertical-align: middle;\n",
       "    }\n",
       "\n",
       "    .dataframe tbody tr th {\n",
       "        vertical-align: top;\n",
       "    }\n",
       "\n",
       "    .dataframe thead th {\n",
       "        text-align: right;\n",
       "    }\n",
       "</style>\n",
       "<table border=\"1\" class=\"dataframe\">\n",
       "  <thead>\n",
       "    <tr style=\"text-align: right;\">\n",
       "      <th></th>\n",
       "      <th>x坐标 (m)</th>\n",
       "      <th>y坐标 (m)</th>\n",
       "    </tr>\n",
       "  </thead>\n",
       "  <tbody>\n",
       "    <tr>\n",
       "      <th>0</th>\n",
       "      <td>107.250</td>\n",
       "      <td>11.664</td>\n",
       "    </tr>\n",
       "    <tr>\n",
       "      <th>1</th>\n",
       "      <td>105.360</td>\n",
       "      <td>23.191</td>\n",
       "    </tr>\n",
       "    <tr>\n",
       "      <th>2</th>\n",
       "      <td>102.235</td>\n",
       "      <td>34.447</td>\n",
       "    </tr>\n",
       "    <tr>\n",
       "      <th>3</th>\n",
       "      <td>97.911</td>\n",
       "      <td>45.299</td>\n",
       "    </tr>\n",
       "    <tr>\n",
       "      <th>4</th>\n",
       "      <td>92.440</td>\n",
       "      <td>55.619</td>\n",
       "    </tr>\n",
       "  </tbody>\n",
       "</table>\n",
       "</div>"
      ],
      "text/plain": [
       "   x坐标 (m)  y坐标 (m)\n",
       "0  107.250   11.664\n",
       "1  105.360   23.191\n",
       "2  102.235   34.447\n",
       "3   97.911   45.299\n",
       "4   92.440   55.619"
      ]
     },
     "execution_count": 3,
     "metadata": {},
     "output_type": "execute_result"
    }
   ],
   "source": [
    "# 读取数据\n",
    "data = pd.read_excel('附件.xlsx')\n",
    "data.head()"
   ]
  },
  {
   "cell_type": "code",
   "execution_count": 14,
   "metadata": {},
   "outputs": [
    {
     "data": {
      "image/png": "[encoded data removed]",
      "text/plain": [
       "<Figure size 640x480 with 1 Axes>"
      ]
     },
     "metadata": {},
     "output_type": "display_data"
    }
   ],
   "source": [
    "# 将数据转化为矩阵\n",
    "data = np.array(data)\n",
    "import matplotlib.pyplot as plt\n",
    "# 以每行的第一列为x坐标，第二列为y坐标，绘制正方形散点图\n",
    "plt.scatter(data[:, 0], data[:, 1], s = 10)\n",
    "# 把第1500行的点绘制成红色\n",
    "plt.scatter(data[-1, 0], data[-1, 1], s = 10, c = 'r')\n",
    "plt.scatter(data[-2, 0], data[-2, 1], s = 10, c = 'r')\n",
    "plt.show()"
   ]
  }
 ],
 "metadata": {
  "kernelspec": {
   "display_name": "base",
   "language": "python",
   "name": "python3"
  },
  "language_info": {
   "codemirror_mode": {
    "name": "ipython",
    "version": 3
   },
   "file_extension": ".py",
   "mimetype": "text/x-python",
   "name": "python",
   "nbconvert_exporter": "python",
   "pygments_lexer": "ipython3",
   "version": "3.9.13"
  },
  "orig_nbformat": 4
 },
 "nbformat": 4,
 "nbformat_minor": 2
}
